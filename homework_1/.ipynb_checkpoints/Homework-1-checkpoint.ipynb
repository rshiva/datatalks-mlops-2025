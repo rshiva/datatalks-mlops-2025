{
 "cells": [
  {
   "cell_type": "code",
   "execution_count": 40,
   "id": "4d229467-e297-42ad-a25d-7ae44e605588",
   "metadata": {},
   "outputs": [
    {
     "data": {
      "text/plain": [
       "3066766"
      ]
     },
     "execution_count": 40,
     "metadata": {},
     "output_type": "execute_result"
    }
   ],
   "source": [
    "import pandas as pd\n",
    "\n",
    "jan_file =  '/Users/shiva/workspace/mlops/datatalks_mlops_2025/homework_1/yellow_tripdata_2023-01.parquet'\n",
    "\n",
    "\n",
    "\n",
    "df = pd.read_parquet(jan_file, engine='pyarrow')\n",
    "# df2 = pd.read_parquet(feb_file, engine='pyarrow')\n"
   ]
  },
  {
   "cell_type": "code",
   "execution_count": 41,
   "id": "51d9c268-33f6-4143-b9c0-14bb555a1c7f",
   "metadata": {},
   "outputs": [
    {
     "data": {
      "text/plain": [
       "np.float64(42.59435124195458)"
      ]
     },
     "execution_count": 41,
     "metadata": {},
     "output_type": "execute_result"
    }
   ],
   "source": [
    "df['pickup_datetime'] = pd.to_datetime(df['tpep_pickup_datetime'])\n",
    "df['drop_datetime'] = pd.to_datetime(df['tpep_dropoff_datetime'])\n",
    "\n",
    "\n",
    "#ride duration in minutes\n",
    "df['duration'] = (df['drop_datetime'] - df['pickup_datetime']).dt.total_seconds() / 60\n",
    "\n",
    "df['duration'].std()"
   ]
  },
  {
   "cell_type": "code",
   "execution_count": 42,
   "id": "871290fe-7496-4518-8fd8-ef5b2c45408f",
   "metadata": {},
   "outputs": [
    {
     "name": "stdout",
     "output_type": "stream",
     "text": [
      "Ride durations (in minutes):\n",
      "        tpep_pickup_datetime tpep_dropoff_datetime   duration\n",
      "0        2023-01-01 00:32:10   2023-01-01 00:40:36   8.433333\n",
      "1        2023-01-01 00:55:08   2023-01-01 01:01:27   6.316667\n",
      "2        2023-01-01 00:25:04   2023-01-01 00:37:49  12.750000\n",
      "3        2023-01-01 00:03:48   2023-01-01 00:13:25   9.616667\n",
      "4        2023-01-01 00:10:29   2023-01-01 00:21:19  10.833333\n",
      "...                      ...                   ...        ...\n",
      "3066761  2023-01-31 23:58:34   2023-02-01 00:12:33  13.983333\n",
      "3066762  2023-01-31 23:31:09   2023-01-31 23:50:36  19.450000\n",
      "3066763  2023-01-31 23:01:05   2023-01-31 23:25:36  24.516667\n",
      "3066764  2023-01-31 23:40:00   2023-01-31 23:53:00  13.000000\n",
      "3066765  2023-01-31 23:07:32   2023-01-31 23:21:56  14.400000\n",
      "\n",
      "[3066718 rows x 3 columns]\n",
      "\n",
      "Standard deviation of trips duration in January: 42.58564176427416\n"
     ]
    }
   ],
   "source": [
    "jan_trips = df[df['tpep_pickup_datetime'].dt.month == 1]\n",
    "\n",
    "# Calculate the standard deviation of the ride durations in January.\n",
    "std_duration = jan_trips['duration'].std()\n",
    "\n",
    "print(\"Ride durations (in minutes):\")\n",
    "print(jan_trips[['tpep_pickup_datetime', 'tpep_dropoff_datetime', 'duration']])\n",
    "print(\"\\nStandard deviation of trips duration in January:\", std_duration)\n",
    "\n"
   ]
  },
  {
   "cell_type": "code",
   "execution_count": 4,
   "id": "5d085e0a-4822-445d-b48e-e4b8223f0829",
   "metadata": {},
   "outputs": [
    {
     "name": "stdout",
     "output_type": "stream",
     "text": [
      "Original count: 3066718\n",
      "Filtered count: 3009136\n",
      "Fraction remaining: 0.9812235751705896\n"
     ]
    }
   ],
   "source": [
    "filtered_trips = jan_trips[(jan_trips['duration'] >= 1) & (jan_trips['duration'] <= 60)]\n",
    "\n",
    "\n",
    "original_count = len(jan_trips)\n",
    "\n",
    "filtered_trips = jan_trips[(jan_trips['duration'] >= 1) & (jan_trips['duration'] <= 60)]\n",
    "\n",
    "filtered_count = len(filtered_trips)\n",
    "\n",
    "fraction_remaining = filtered_count / original_count if original_count > 0 else 0\n",
    "\n",
    "print(f\"Original count: {original_count}\")\n",
    "print(f\"Filtered count: {filtered_count}\")\n",
    "print(f\"Fraction remaining: {fraction_remaining}\")"
   ]
  },
  {
   "cell_type": "code",
   "execution_count": 61,
   "id": "4b1deb1a-18b7-48d0-8c4e-25ef20d975d2",
   "metadata": {},
   "outputs": [
    {
     "name": "stdout",
     "output_type": "stream",
     "text": [
      "Feature matrix shape: (3009173, 515)\n"
     ]
    }
   ],
   "source": [
    "#one hot encoding\n",
    "from sklearn.feature_extraction import DictVectorizer\n",
    "\n",
    "df_subset = df[['PULocationID', 'DOLocationID']].copy() \n",
    "df_subset['PULocationID'] = df_subset['PULocationID'].astype(str)\n",
    "df_subset['DOLocationID'] = df_subset['DOLocationID'].astype(str)\n",
    "\n",
    "#convert dataframe to list of dictionaries\n",
    "records = df_subset.to_dict(orient='records')\n",
    "\n",
    "dv = DictVectorizer(sparse=False)\n",
    "\n",
    "feature_matrix = dv.fit_transform(records)\n",
    "\n",
    "num_columns = feature_matrix.shape[1]\n",
    "\n",
    "print(\"Feature matrix shape:\", feature_matrix.shape)\n",
    "# print(\"Feature names:\", dv.get_feature_names_out())\n",
    "# print(\"Dimensionality (number of columns):\", num_columns)\n"
   ]
  },
  {
   "cell_type": "code",
   "execution_count": 73,
   "id": "a5496b96-868a-430c-a327-4cd65942553a",
   "metadata": {},
   "outputs": [
    {
     "name": "stdout",
     "output_type": "stream",
     "text": [
      "Index(['VendorID', 'tpep_pickup_datetime', 'tpep_dropoff_datetime',\n",
      "       'passenger_count', 'trip_distance', 'RatecodeID', 'store_and_fwd_flag',\n",
      "       'PULocationID', 'DOLocationID', 'payment_type', 'fare_amount', 'extra',\n",
      "       'mta_tax', 'tip_amount', 'tolls_amount', 'improvement_surcharge',\n",
      "       'total_amount', 'congestion_surcharge', 'airport_fee'],\n",
      "      dtype='object')\n",
      "✅ RMSE on training (Jan): 7.649261946248764\n"
     ]
    }
   ],
   "source": [
    "# 5: Now let's use the feature matrix from the previous step to train a model. Train a plain linear regression model with default parameters,\n",
    "#where duration is the response variable Calculate the RMSE of the model on the training data What's the RMSE on train?\n",
    "\n",
    "import pandas as pd\n",
    "from sklearn.feature_extraction import DictVectorizer\n",
    "from sklearn.linear_model import LinearRegression\n",
    "from sklearn.metrics import mean_squared_error\n",
    "import numpy as np\n",
    "\n",
    "# Load Jan \n",
    "df_jan = pd.read_parquet('/Users/shiva/workspace/mlops/datatalks_mlops_2025/homework_1/yellow_tripdata_2023-01.parquet', engine='pyarrow')\n",
    "print(df_jan.columns)\n",
    "\n",
    "df_jan['pickup_datetime'] = pd.to_datetime(df_jan['tpep_pickup_datetime'])\n",
    "df_jan['drop_datetime'] = pd.to_datetime(df_jan['tpep_dropoff_datetime'])\n",
    "df_jan['duration'] = (df_jan['drop_datetime'] - df_jan['pickup_datetime']).dt.total_seconds() / 60\n",
    "df_jan = df_jan[(df_jan['duration'] >= 1) & (df_jan['duration'] <= 60)]\n",
    "df_jan[['PULocationID', 'DOLocationID']] = df_jan[['PULocationID', 'DOLocationID']].astype(str)\n",
    "\n",
    "# 2. Vectorize features\n",
    "dv = DictVectorizer(sparse=True)\n",
    "X_train = dv.fit_transform(df_jan[['PULocationID', 'DOLocationID']].to_dict(orient='records'))\n",
    "y_train = df_jan['duration'].values\n",
    "\n",
    "# 3. Train model\n",
    "model = LinearRegression()\n",
    "model.fit(X_train, y_train)\n",
    "\n",
    "# 4. Evaluate on train\n",
    "y_pred_train = model.predict(X_train)\n",
    "rmse_train = np.sqrt(mean_squared_error(y_train, y_pred_train))\n",
    "print(\"✅ RMSE on training (Jan):\", rmse_train)\n"
   ]
  },
  {
   "cell_type": "code",
   "execution_count": 70,
   "id": "5d9e6d89-1b21-4844-83fd-60ef4a619b09",
   "metadata": {},
   "outputs": [
    {
     "name": "stdout",
     "output_type": "stream",
     "text": [
      "✅ RMSE on training (Jan): 7.811817544074326\n"
     ]
    }
   ],
   "source": [
    "# 5. Load and prepare Feb data (but DON'T fit a new vectorizer or model!)\n",
    "df_feb = pd.read_parquet('/Users/shiva/workspace/mlops/datatalks_mlops_2025/homework_1/yellow_tripdata_2023-02.parquet',engine='pyarrow')\n",
    "df_feb['pickup_datetime'] = pd.to_datetime(df_feb['tpep_pickup_datetime'])\n",
    "df_feb['drop_datetime'] = pd.to_datetime(df_feb['tpep_dropoff_datetime'])\n",
    "df_feb['duration'] = (df_feb['drop_datetime'] - df_feb['pickup_datetime']).dt.total_seconds() / 60\n",
    "df_feb = df_feb[(df_feb['duration'] >= 1) & (df_feb['duration'] <= 60)]\n",
    "df_feb[['PULocationID', 'DOLocationID']] = df_feb[['PULocationID', 'DOLocationID']].astype(str)\n",
    "\n",
    "#6 Transform Feb features using the same Dictvectorizer, we use only transform\n",
    "X_val = dv.transform(df_feb[['PULocationID', 'DOLocationID']].to_dict(orient='records'))\n",
    "y_val = df_feb['duration'].values\n",
    "\n",
    "#7. Predict using model trained on Jan\n",
    "y_pred_val = model.predict(X_val)\n",
    "rmse_val = np.sqrt(mean_squared_error(y_val, y_pred_val))\n",
    "print(\"✅ RMSE on training (Jan):\", rmse_val)\n"
   ]
  },
  {
   "cell_type": "code",
   "execution_count": null,
   "id": "c1b15686-d836-423d-9470-33423c10ee6a",
   "metadata": {},
   "outputs": [],
   "source": []
  },
  {
   "cell_type": "code",
   "execution_count": null,
   "id": "c9ab62ad-b975-4886-93cd-090acd16ce50",
   "metadata": {},
   "outputs": [],
   "source": []
  }
 ],
 "metadata": {
  "kernelspec": {
   "display_name": "venv",
   "language": "python",
   "name": "venv"
  },
  "language_info": {
   "codemirror_mode": {
    "name": "ipython",
    "version": 3
   },
   "file_extension": ".py",
   "mimetype": "text/x-python",
   "name": "python",
   "nbconvert_exporter": "python",
   "pygments_lexer": "ipython3",
   "version": "3.12.3"
  }
 },
 "nbformat": 4,
 "nbformat_minor": 5
}
