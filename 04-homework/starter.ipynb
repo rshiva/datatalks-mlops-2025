{
 "cells": [
  {
   "cell_type": "code",
   "execution_count": 50,
   "id": "329407ae-8f8d-46bd-906a-3c93d5b1d090",
   "metadata": {},
   "outputs": [],
   "source": [
    "!pip freeze |  grep scikit-learn"
   ]
  },
  {
   "cell_type": "code",
   "execution_count": 2,
   "id": "c8991c6b-f4ad-4fb0-b472-9350d3b5f304",
   "metadata": {},
   "outputs": [
    {
     "name": "stdout",
     "output_type": "stream",
     "text": [
      "Python 3.11.13\n"
     ]
    }
   ],
   "source": [
    "!python -V"
   ]
  },
  {
   "cell_type": "code",
   "execution_count": 18,
   "id": "6d8f4a63-a079-40c3-9538-c10b2869c489",
   "metadata": {},
   "outputs": [],
   "source": [
    "import pickle\n",
    "import pandas as pd\n",
    "import numpy as np"
   ]
  },
  {
   "cell_type": "code",
   "execution_count": 22,
   "id": "4caf8d3a-22eb-468d-aae0-16bfc001ac44",
   "metadata": {},
   "outputs": [],
   "source": [
    "with open('lin_reg.bin', 'rb') as f_in:\n",
    "    dv, model = pickle.load(f_in)"
   ]
  },
  {
   "cell_type": "code",
   "execution_count": 36,
   "id": "f882b5e9-098e-4316-a096-0b256612f9c7",
   "metadata": {},
   "outputs": [],
   "source": [
    "categorical = ['PULocationID','DOLocationID']\n",
    "\n",
    "def read_data(filename, year, month):\n",
    "    df = pd.read_parquet(filename)\n",
    "    df['duration'] = df.tpep_dropoff_datetime - df.tpep_pickup_datetime\n",
    "    df['duration'] = df.duration.dt.total_seconds() / 60\n",
    "\n",
    "    df = df[(df.duration >= 1) & (df.duration <= 60)].copy()\n",
    "\n",
    "    df[categorical] = df[categorical].fillna(-1).astype('int').astype('str')\n",
    "    df['ride_id'] = f'{year:04d}/{month:02d}_' + df.index.astype(str)\n",
    "    return df\n",
    "    "
   ]
  },
  {
   "cell_type": "code",
   "execution_count": 41,
   "id": "02459ab3-8d72-4f15-9b98-3876a2248931",
   "metadata": {},
   "outputs": [
    {
     "name": "stdout",
     "output_type": "stream",
     "text": [
      "https://d37ci6vzurychx.cloudfront.net/trip-data/yellow_tripdata_2023-03.parquet\n",
      "   VendorID tpep_pickup_datetime tpep_dropoff_datetime  passenger_count  \\\n",
      "0         2  2023-03-01 00:06:43   2023-03-01 00:16:43              1.0   \n",
      "1         2  2023-03-01 00:08:25   2023-03-01 00:39:30              2.0   \n",
      "2         1  2023-03-01 00:15:04   2023-03-01 00:29:26              0.0   \n",
      "3         1  2023-03-01 00:49:37   2023-03-01 01:01:05              1.0   \n",
      "4         2  2023-03-01 00:08:04   2023-03-01 00:11:06              1.0   \n",
      "\n",
      "   trip_distance  RatecodeID store_and_fwd_flag PULocationID DOLocationID  \\\n",
      "0           0.00         1.0                  N          238           42   \n",
      "1          12.40         1.0                  N          138          231   \n",
      "2           3.30         1.0                  N          140          186   \n",
      "3           2.90         1.0                  N          140           43   \n",
      "4           1.23         1.0                  N           79          137   \n",
      "\n",
      "   payment_type  ...  extra  mta_tax  tip_amount  tolls_amount  \\\n",
      "0             2  ...    1.0      0.5        0.00           0.0   \n",
      "1             1  ...    6.0      0.5       12.54           0.0   \n",
      "2             1  ...    3.5      0.5        4.65           0.0   \n",
      "3             1  ...    3.5      0.5        4.10           0.0   \n",
      "4             1  ...    1.0      0.5        2.44           0.0   \n",
      "\n",
      "   improvement_surcharge  total_amount  congestion_surcharge  Airport_fee  \\\n",
      "0                    1.0         11.10                   0.0         0.00   \n",
      "1                    1.0         76.49                   2.5         1.25   \n",
      "2                    1.0         28.05                   2.5         0.00   \n",
      "3                    1.0         24.70                   2.5         0.00   \n",
      "4                    1.0         14.64                   2.5         0.00   \n",
      "\n",
      "    duration    ride_id  \n",
      "0  10.000000  2023/03_0  \n",
      "1  31.083333  2023/03_1  \n",
      "2  14.366667  2023/03_2  \n",
      "3  11.466667  2023/03_3  \n",
      "4   3.033333  2023/03_4  \n",
      "\n",
      "[5 rows x 21 columns]\n"
     ]
    }
   ],
   "source": [
    "year = 2023\n",
    "month = 3\n",
    "filename = f'https://d37ci6vzurychx.cloudfront.net/trip-data/yellow_tripdata_{year}-{month:02}.parquet' \n",
    "print(filename)\n",
    "df = read_data(filename,year,month)\n",
    "# df = pd.read_parquet('https://d37ci6vzurychx.cloudfront.net/trip-data/yellow_tripdata_2023-03.parquet')\n",
    "print(df[:5])\n"
   ]
  },
  {
   "cell_type": "code",
   "execution_count": 27,
   "id": "685af2a4-7696-4e7a-9fca-a861db1cf398",
   "metadata": {},
   "outputs": [],
   "source": [
    "dicts = df[categorical].to_dict(orient='records')\n",
    "X_val = dv.transform(dicts)\n",
    "y_pred = model.predict(X_val)"
   ]
  },
  {
   "cell_type": "code",
   "execution_count": 20,
   "id": "77b61d4b-d03e-4141-84b0-c67e09cfab92",
   "metadata": {},
   "outputs": [
    {
     "name": "stdout",
     "output_type": "stream",
     "text": [
      "Standard Deviation of predicted duration: 6.24751524449896\n"
     ]
    }
   ],
   "source": [
    "std_dev = np.std(y_pred)\n",
    "print(f\"Standard Deviation of predicted duration: {std_dev}\")"
   ]
  },
  {
   "cell_type": "code",
   "execution_count": 43,
   "id": "5aa4f7d0-81f6-4154-8f81-0766c096b562",
   "metadata": {},
   "outputs": [],
   "source": [
    "df_result = pd.DataFrame({\n",
    "    'ride_id': df['ride_id'],\n",
    "    'predicated_duration': y_pred\n",
    "\n",
    "})"
   ]
  },
  {
   "cell_type": "code",
   "execution_count": 45,
   "id": "7cfdbccb-ca66-4def-ab4d-70184c879e11",
   "metadata": {},
   "outputs": [],
   "source": [
    "output_file = 'output_file.parquet'\n",
    "\n",
    "df_result.to_parquet(\n",
    "    output_file,\n",
    "    engine='pyarrow',\n",
    "    compression=None,\n",
    "    index=False\n",
    ")\n"
   ]
  }
 ],
 "metadata": {
  "kernelspec": {
   "display_name": "Python 3 (ipykernel)",
   "language": "python",
   "name": "python3"
  },
  "language_info": {
   "codemirror_mode": {
    "name": "ipython",
    "version": 3
   },
   "file_extension": ".py",
   "mimetype": "text/x-python",
   "name": "python",
   "nbconvert_exporter": "python",
   "pygments_lexer": "ipython3",
   "version": "3.12.3"
  }
 },
 "nbformat": 4,
 "nbformat_minor": 5
}
